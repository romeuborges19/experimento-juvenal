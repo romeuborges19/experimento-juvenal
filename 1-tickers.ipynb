{
 "cells": [
  {
   "cell_type": "markdown",
   "id": "67b399b2",
   "metadata": {},
   "source": [
    "Extração das séries temporais com preços das ações"
   ]
  },
  {
   "cell_type": "code",
   "execution_count": null,
   "id": "a16c514b",
   "metadata": {},
   "outputs": [],
   "source": [
    "tickers = [\n",
    "    \"SUZB3\",\n",
    "    \"CVCB3\",\n",
    "    \"MGLU3\",\n",
    "    \"FIBR3\",\n",
    "    \"RENT3\",\n",
    "    \"TIMP3\",\n",
    "    \"SANB11\",\n",
    "    \"VALE3\",\n",
    "    \"PETR3\",\n",
    "    \"BRAP4\",\n",
    "    \"PETR4\",\n",
    "    \"EQTL3\",\n",
    "    \"RAIL3\",\n",
    "    \"ABEV3\",\n",
    "    \"SBSP3\",\n",
    "    \"BBAS3\",\n",
    "    \"ESTC3\",\n",
    "    \"USIM5\",\n",
    "    \"B3SA3\",\n",
    "    \"GOLL4\",\n",
    "    \"GOAU4\",\n",
    "    \"ITUB4\",\n",
    "    \"GGBR4\",\n",
    "    \"BTOW3\",\n",
    "    \"HYPE3\",\n",
    "    \"ITSA4\",\n",
    "    \"BBDC4\",\n",
    "    \"LREN3\",\n",
    "    \"VVAR3\",\n",
    "    \"BRKM5\",\n",
    "    \"WEGE3\",\n",
    "    \"SMLS3\",\n",
    "    \"BBDC3\",\n",
    "    \"CYRE3\",\n",
    "    \"CSAN3\",\n",
    "    \"NATU3\",\n",
    "    \"IGTA3\",\n",
    "    \"PCAR4\",\n",
    "    \"MRVE3\",\n",
    "    \"ECOR3\",\n",
    "    \"FLRY3\",\n",
    "    \"JBSS3\",\n",
    "    \"UGPA3\",\n",
    "    \"LAME4\",\n",
    "    \"EMBR3\",\n",
    "    \"RADL3\",\n",
    "    \"VIVT4\",\n",
    "    \"QUAL3\",\n",
    "    \"MULT3\",\n",
    "    \"MRFG3\",\n",
    "    \"EGIE3\",\n",
    "    \"BBSE3\",\n",
    "    \"CMIG4\",\n",
    "    \"ENBR3\",\n",
    "    \"CSNA3\",\n",
    "    \"CPLE6\",\n",
    "    \"CIEL3\",\n",
    "    \"ELET6\",\n",
    "    \"KROT3\",\n",
    "    \"ELET3\",\n",
    "    \"BRML3\",\n",
    "    \"CCRO3\",\n",
    "    \"BRFS3\",\n",
    "]\n",
    "\n",
    "rel = {\n",
    "    \"VVAR3\": \"BHIA3\",\n",
    "    \"KROT3\": \"COGN3\",\n",
    "    \"TIMP3\": \"TIMS3\",\n",
    "    \"ESTC3\": \"YDUQ3\",\n",
    "    \"BTOW3\": \"AMER3\",\n",
    "    \"PCAR4\": False, # Dados zerados\n",
    "    \"NATU3\": False, # Dados indisponíveis na API\n",
    "    \"FIBR3\": False,\n",
    "    \"VIVT4\": False,\n",
    "    \"BRML3\": False,\n",
    "    \"CIEL3\": False,\n",
    "    \"ENBR3\": False,\n",
    "    \"SMLS3\": False,\n",
    "    \"IGTA3\": False,\n",
    "    \"LAME4\": False,\n",
    "}"
   ]
  },
  {
   "cell_type": "code",
   "execution_count": 36,
   "id": "c89452f0",
   "metadata": {},
   "outputs": [],
   "source": [
    "from yfinance import Ticker"
   ]
  },
  {
   "cell_type": "code",
   "execution_count": null,
   "id": "530596bd",
   "metadata": {},
   "outputs": [],
   "source": [
    "result = {}\n",
    "for t in tickers:\n",
    "\n",
    "    nome = rel.get(t, t)\n",
    "    if nome is False:\n",
    "        continue\n",
    "\n",
    "    data = Ticker(f\"{nome}.SA\")\n",
    "    df = data.history(period=\"10y\").reset_index()\n",
    "    df = df[(df.Date >= '2016-08-01') & (df.Date <= '2018-05-07')]\n",
    "\n",
    "    result[nome] = df"
   ]
  },
  {
   "cell_type": "code",
   "execution_count": 43,
   "id": "68202305",
   "metadata": {},
   "outputs": [],
   "source": [
    "for nome, df in result.items():\n",
    "    df.to_parquet(f\"tickers/{nome.lower()}.parquet\")"
   ]
  }
 ],
 "metadata": {
  "kernelspec": {
   "display_name": ".venv",
   "language": "python",
   "name": "python3"
  },
  "language_info": {
   "codemirror_mode": {
    "name": "ipython",
    "version": 3
   },
   "file_extension": ".py",
   "mimetype": "text/x-python",
   "name": "python",
   "nbconvert_exporter": "python",
   "pygments_lexer": "ipython3",
   "version": "3.12.10"
  }
 },
 "nbformat": 4,
 "nbformat_minor": 5
}
